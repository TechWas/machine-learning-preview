{
 "cells": [
  {
   "cell_type": "code",
   "execution_count": 6,
   "metadata": {},
   "outputs": [
    {
     "name": "stdout",
     "output_type": "stream",
     "text": [
      "['Welcome to TechWas (Technology Waste)']\n"
     ]
    }
   ],
   "source": [
    "import requests\n",
    "import os\n",
    "import json\n",
    "from dotenv import load_dotenv\n",
    "\n",
    "load_dotenv()\n",
    "\n",
    "API_URL = os.getenv(\"API_URL\")\n",
    "\n",
    "response = requests.get(API_URL)\n",
    "\n",
    "if response.status_code == 200:\n",
    "    data = response.json()\n",
    "    print(data)\n",
    "else:\n",
    "    print('An error occurred:', response.status_code)"
   ]
  },
  {
   "cell_type": "code",
   "execution_count": 8,
   "metadata": {},
   "outputs": [
    {
     "name": "stdout",
     "output_type": "stream",
     "text": [
      "{\"predictions\":[{\"Components Name\":\"Mouse\",\"Components Value\":95.11435627937317,\"Components ID\":10},{\"Components Name\":\"Rice Cooker\",\"Components Value\":3.4927770495414734,\"Components ID\":13},{\"Components Name\":\"E-kettle\",\"Components Value\":0.37718734238296747,\"Components ID\":4}],\"time_taken\":\"0 hours 0 minutes and 0.95 seconds.\",\"Image_Url\":\"https://storage.googleapis.com/techpybarahh/predictSave/Mouse2831559950000591629\"}\n"
     ]
    }
   ],
   "source": [
    "url = API_URL + \"/predict/\"\n",
    "\n",
    "payload = {}\n",
    "files=[\n",
    "  ('file',('image.jpg',open('image.jpg','rb'),'image/jpeg'))\n",
    "]\n",
    "headers = {}\n",
    "\n",
    "response = requests.request(\"POST\", url, headers=headers, data=payload, files=files)\n",
    "\n",
    "print(response.text)"
   ]
  },
  {
   "cell_type": "code",
   "execution_count": 9,
   "metadata": {},
   "outputs": [
    {
     "name": "stdout",
     "output_type": "stream",
     "text": [
      "{\n",
      "    \"predictions\": [\n",
      "        {\n",
      "            \"Components Name\": \"Mouse\",\n",
      "            \"Components Value\": 95.11435627937317,\n",
      "            \"Components ID\": 10\n",
      "        },\n",
      "        {\n",
      "            \"Components Name\": \"Rice Cooker\",\n",
      "            \"Components Value\": 3.4927770495414734,\n",
      "            \"Components ID\": 13\n",
      "        },\n",
      "        {\n",
      "            \"Components Name\": \"E-kettle\",\n",
      "            \"Components Value\": 0.37718734238296747,\n",
      "            \"Components ID\": 4\n",
      "        }\n",
      "    ],\n",
      "    \"time_taken\": \"0 hours 0 minutes and 0.95 seconds.\",\n",
      "    \"Image_Url\": \"https://storage.googleapis.com/techpybarahh/predictSave/Mouse2831559950000591629\"\n",
      "}\n"
     ]
    }
   ],
   "source": [
    "formatted_json = json.dumps(response.json(), indent=4)\n",
    "print(formatted_json)"
   ]
  },
  {
   "cell_type": "code",
   "execution_count": 5,
   "metadata": {},
   "outputs": [
    {
     "data": {
      "text/plain": [
       "[{'summary_text': \"When it comes to navigating through the complexities of this modern era, it is crucial to cultivate a broad range of skills and knowledge. Key skills for success in today's world include effective communication, critical thinking, and creativity. Critical thinking allows us to analyze, evaluate, and interpret data and ideas, making informed decisions, solving complex problems, and separating fact from fiction. Creativity fuels innovation and adapts to changing circumstances, making it a highly sought-after skill in the 21st century.\"}]"
      ]
     },
     "execution_count": 5,
     "metadata": {},
     "output_type": "execute_result"
    }
   ],
   "source": [
    "import requests\n",
    "import os\n",
    "import json\n",
    "from dotenv import load_dotenv\n",
    "\n",
    "load_dotenv()\n",
    "\n",
    "SUMMARIZATION_TOKEN = os.getenv(\"SUMMARIZATION_TOKEN\")\n",
    "\n",
    "SUMARIZATION_API_URL = os.getenv(\"SUMMARIZATION_API_URL\")\n",
    "headers = {\"Authorization\": f\"Bearer {SUMMARIZATION_TOKEN}\"}\n",
    "\n",
    "def query(payload):\n",
    "\tdata = json.dumps(payload)\n",
    "\tresponse = requests.post(SUMARIZATION_API_URL, headers=headers, data=data)\n",
    "\treturn response.json()\n",
    "\t\n",
    "output = query({\n",
    "\"inputs\": \"\"\"In a world filled with ever-evolving technology and constant change, it's crucial to stay adaptable and open-minded. The pace of innovation and the interconnectedness of our global society present both opportunities and challenges that require us to think critically and creatively. As we navigate through the complexities of this modern era, it becomes increasingly important to cultivate a broad range of skills and knowledge.\n",
    "\n",
    "One of the fundamental skills for success in today's world is effective communication. The ability to express oneself clearly and concisely, both verbally and in writing, is essential in nearly every aspect of life. Whether it's making a persuasive argument, collaborating with others, or simply engaging in meaningful conversations, strong communication skills are indispensable.\n",
    "\n",
    "Another vital skill is critical thinking. In a world inundated with information, it's essential to be able to analyze, evaluate, and interpret data and ideas. Critical thinking allows us to make informed decisions, solve complex problems, and separate fact from fiction. It involves questioning assumptions, considering alternative perspectives, and arriving at well-reasoned conclusions.\n",
    "\n",
    "In addition to communication and critical thinking, creativity is becoming increasingly valuable. The ability to think outside the box, generate innovative ideas, and approach challenges with a fresh perspective can lead to breakthroughs in various fields. Creativity fuels innovation and allows us to adapt to changing circumstances, making it a highly sought-after skill in the 21st century.\"\"\",\n",
    "})\n",
    "\n",
    "output"
   ]
  },
  {
   "cell_type": "code",
   "execution_count": 6,
   "metadata": {},
   "outputs": [
    {
     "data": {
      "text/plain": [
       "1597"
      ]
     },
     "execution_count": 6,
     "metadata": {},
     "output_type": "execute_result"
    }
   ],
   "source": [
    "text = \"\"\"\n",
    "In a world filled with ever-evolving technology and constant change, it's crucial to stay adaptable and open-minded. The pace of innovation and the interconnectedness of our global society present both opportunities and challenges that require us to think critically and creatively. As we navigate through the complexities of this modern era, it becomes increasingly important to cultivate a broad range of skills and knowledge.\n",
    "\n",
    "One of the fundamental skills for success in today's world is effective communication. The ability to express oneself clearly and concisely, both verbally and in writing, is essential in nearly every aspect of life. Whether it's making a persuasive argument, collaborating with others, or simply engaging in meaningful conversations, strong communication skills are indispensable.\n",
    "\n",
    "Another vital skill is critical thinking. In a world inundated with information, it's essential to be able to analyze, evaluate, and interpret data and ideas. Critical thinking allows us to make informed decisions, solve complex problems, and separate fact from fiction. It involves questioning assumptions, considering alternative perspectives, and arriving at well-reasoned conclusions.\n",
    "\n",
    "In addition to communication and critical thinking, creativity is becoming increasingly valuable. The ability to think outside the box, generate innovative ideas, and approach challenges with a fresh perspective can lead to breakthroughs in various fields. Creativity fuels innovation and allows us to adapt to changing circumstances, making it a highly sought-after skill in the 21st century.\n",
    "\"\"\"\n",
    "\n",
    "len(text)"
   ]
  }
 ],
 "metadata": {
  "kernelspec": {
   "display_name": "venv",
   "language": "python",
   "name": "python3"
  },
  "language_info": {
   "codemirror_mode": {
    "name": "ipython",
    "version": 3
   },
   "file_extension": ".py",
   "mimetype": "text/x-python",
   "name": "python",
   "nbconvert_exporter": "python",
   "pygments_lexer": "ipython3",
   "version": "3.11.1"
  },
  "orig_nbformat": 4
 },
 "nbformat": 4,
 "nbformat_minor": 2
}
